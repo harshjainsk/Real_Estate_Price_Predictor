{
 "cells": [
  {
   "cell_type": "code",
   "execution_count": 1,
   "id": "3a434601",
   "metadata": {},
   "outputs": [
    {
     "data": {
      "text/plain": [
       "array([23.485])"
      ]
     },
     "execution_count": 1,
     "metadata": {},
     "output_type": "execute_result"
    }
   ],
   "source": [
    "from joblib import dump, load\n",
    "import numpy as np\n",
    "model = load('Real_Estate_Project.joblib')\n",
    "features = np.array([[-0.40786253, -0.4898311 , -0.57719868, -0.27288841, -0.5573845 ,\n",
    "        0.0450661 , -1.42222622,  0.79643404, -0.5429938 , -0.74402708,\n",
    "        0.52982668,  0.45343469, -0.91902752]])\n",
    "model.predict(features)"
   ]
  },
  {
   "cell_type": "code",
   "execution_count": null,
   "id": "ba499ac9",
   "metadata": {},
   "outputs": [],
   "source": []
  }
 ],
 "metadata": {
  "kernelspec": {
   "display_name": "Python 3 (ipykernel)",
   "language": "python",
   "name": "python3"
  },
  "language_info": {
   "codemirror_mode": {
    "name": "ipython",
    "version": 3
   },
   "file_extension": ".py",
   "mimetype": "text/x-python",
   "name": "python",
   "nbconvert_exporter": "python",
   "pygments_lexer": "ipython3",
   "version": "3.9.5"
  }
 },
 "nbformat": 4,
 "nbformat_minor": 5
}
